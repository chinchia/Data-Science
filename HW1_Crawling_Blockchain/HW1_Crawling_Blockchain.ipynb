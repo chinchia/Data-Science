{
 "cells": [
  {
   "cell_type": "code",
   "execution_count": 1,
   "metadata": {},
   "outputs": [],
   "source": [
    "import requests\n",
    "from bs4 import BeautifulSoup"
   ]
  },
  {
   "cell_type": "code",
   "execution_count": 2,
   "metadata": {},
   "outputs": [],
   "source": [
    "urls = []\n",
    "target_addresses = []\n",
    "with open('./input_hw1.txt', 'r') as file:\n",
    "    for target_address in file.read().splitlines():\n",
    "        target_addresses.append(target_address)\n",
    "        urls.append(\"https://www.blockchain.com/eth/address/\" + target_address + \"?view=standard\")"
   ]
  },
  {
   "cell_type": "code",
   "execution_count": 3,
   "metadata": {},
   "outputs": [],
   "source": [
    "def get_info(url):\n",
    "    html = requests.get(url)\n",
    "    bs = BeautifulSoup(html.text, 'html.parser')\n",
    "    \n",
    "    # basic information\n",
    "    infos = bs.find_all(\"div\", class_=\"sc-8sty72-0 cyLejs\")\n",
    "    info = []\n",
    "    for i in range(2, len(infos), 2):\n",
    "        info.append(infos[i].text + ': ' + infos[i+1].text)\n",
    "        \n",
    "    # withdraw information\n",
    "    dates = bs.find_all(\"div\", class_=\"sc-1rk8jst-0 jKHeRh\")\n",
    "    tos = bs.find_all(\"div\", class_=\"sc-1rk8jst-2 jyQjOo\")\n",
    "    amounts = bs.find_all(\"div\", class_=\"sc-1rk8jst-1 jyQjOn\")\n",
    "\n",
    "    date = 0\n",
    "    next_address = 0\n",
    "    next_url = 0\n",
    "    \n",
    "    for i in range(len(amounts)-1, -1, -1):\n",
    "        if amounts[i].text[0] == '-':\n",
    "            date = dates[i].text\n",
    "            to = tos[i].text\n",
    "            amount = amounts[i].text\n",
    "            break\n",
    "\n",
    "    if date != 0:\n",
    "        info.append('Date' + ': ' + date)\n",
    "        info.append('To' + ': ' + to)\n",
    "        info.append('Amount' + ': ' + amount)\n",
    "\n",
    "        next_address = to\n",
    "        next_url = \"https://www.blockchain.com/eth/address/\" + next_address + \"?view=standard\"\n",
    "        \n",
    "    return info, next_address, next_url"
   ]
  },
  {
   "cell_type": "code",
   "execution_count": 4,
   "metadata": {},
   "outputs": [],
   "source": [
    "all_info = []\n",
    "for i in range(len(urls)):\n",
    "    addresses = []\n",
    "    addresses.append(target_addresses[i])\n",
    "    \n",
    "    info, next_address, next_url = get_info(urls[i])\n",
    "    all_info.append(info)\n",
    "    addresses.append(next_address)\n",
    "    \n",
    "    count = 0\n",
    "    while next_address != 0 and count < 3:\n",
    "        next_info, next_address, next_url = get_info(next_url)\n",
    "        all_info.append(next_info)\n",
    "        count += 1\n",
    "        \n",
    "        if next_address != 0 and count < 3:\n",
    "            addresses.append(next_address)\n",
    "            \n",
    "    all_info.append(addresses)"
   ]
  },
  {
   "cell_type": "code",
   "execution_count": 5,
   "metadata": {},
   "outputs": [],
   "source": [
    "output = []\n",
    "for i in range(len(all_info)):\n",
    "    if all_info[i][0][:5] == 'Nonce':\n",
    "        for j in all_info[i]:\n",
    "            output.append(j)\n",
    "        output.append('--------------------------------------------------------------------------')\n",
    "    else:\n",
    "        string = all_info[i][0]\n",
    "        if len(all_info[i]) > 1:\n",
    "            for k in range(len(all_info[i])-1):\n",
    "                string += ' -> ' + all_info[i][k+1]\n",
    "        output.append(string)\n",
    "        output.append('--------------------------------------------------------------------------')"
   ]
  },
  {
   "cell_type": "code",
   "execution_count": 6,
   "metadata": {},
   "outputs": [],
   "source": [
    "with open(\"108065530_hw1_output.txt\", mode='wt', encoding='utf-8') as out:\n",
    "    out.write('\\n'.join(output))"
   ]
  },
  {
   "cell_type": "code",
   "execution_count": null,
   "metadata": {},
   "outputs": [],
   "source": []
  }
 ],
 "metadata": {
  "kernelspec": {
   "display_name": "Python 3",
   "language": "python",
   "name": "python3"
  },
  "language_info": {
   "codemirror_mode": {
    "name": "ipython",
    "version": 3
   },
   "file_extension": ".py",
   "mimetype": "text/x-python",
   "name": "python",
   "nbconvert_exporter": "python",
   "pygments_lexer": "ipython3",
   "version": "3.5.6"
  }
 },
 "nbformat": 4,
 "nbformat_minor": 4
}
